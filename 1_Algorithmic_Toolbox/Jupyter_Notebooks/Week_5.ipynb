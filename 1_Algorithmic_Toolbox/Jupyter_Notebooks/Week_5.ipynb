{
 "cells": [
  {
   "cell_type": "code",
   "execution_count": 3,
   "metadata": {},
   "outputs": [],
   "source": []
  },
  {
   "cell_type": "code",
   "execution_count": null,
   "metadata": {},
   "outputs": [],
   "source": []
  },
  {
   "cell_type": "code",
   "execution_count": 23,
   "metadata": {},
   "outputs": [],
   "source": [
    "# Problem 1 Money Change\n",
    "def min_change(m):\n",
    "    table = [0]*(m+1)\n",
    "    if m==1: table[1] = 1\n",
    "    elif m==2:\n",
    "        table[1] = 1\n",
    "        table[2] = 2\n",
    "    elif m==3:\n",
    "        table[1] = 1\n",
    "        table[2] = 2\n",
    "        table[3] = 1\n",
    "    elif m==4:\n",
    "        table[1] = 1\n",
    "        table[2] = 2\n",
    "        table[3] = 1\n",
    "        table[4] = 1\n",
    "    elif m>4:\n",
    "        table[1] = 1\n",
    "        table[2] = 2\n",
    "        table[3] = 1\n",
    "        table[4] = 1\n",
    "        for i in range(5, m+1):\n",
    "            minCoin = min(table[i-3], table[i-1], table[i-4])\n",
    "            table[i] = minCoin + 1\n",
    "    return table[m]    "
   ]
  },
  {
   "cell_type": "code",
   "execution_count": 29,
   "metadata": {},
   "outputs": [
    {
     "name": "stdout",
     "output_type": "stream",
     "text": [
      "9\n"
     ]
    }
   ],
   "source": [
    "print(min_change(34))"
   ]
  },
  {
   "cell_type": "code",
   "execution_count": 75,
   "metadata": {},
   "outputs": [],
   "source": [
    "# Problem 4 Longest Common Subsequence of Two Sequences\n",
    "def long_two(a,b):\n",
    "    n, m = len(a), len(b)\n",
    "    L = [[0]*(m+1) for k in range(n+1)]\n",
    "    for j in range(n):\n",
    "        for k in range(m):\n",
    "            if a[j] == b[k]:\n",
    "                L[j+1][k+1] = L[j][k]+1\n",
    "            else:\n",
    "                L[j+1][k+1] = max(L[j][k+1], L[j+1][k])\n",
    "    return L[j+1][k+1]"
   ]
  },
  {
   "cell_type": "code",
   "execution_count": 76,
   "metadata": {},
   "outputs": [
    {
     "name": "stdout",
     "output_type": "stream",
     "text": [
      "2\n"
     ]
    }
   ],
   "source": [
    "print(long_two([2,7,8,3], [5,2,8,7]))"
   ]
  },
  {
   "cell_type": "code",
   "execution_count": 111,
   "metadata": {},
   "outputs": [],
   "source": [
    "# Problem 5 Longest Common Subsequence of Three Sequences\n",
    "def long_three(a,b,c):\n",
    "    l, n, m = len(a), len(b), len(c)\n",
    "    L = [[[0 for k in range(m+1)] for j in range(n+1)] for i in range(l+1)]\n",
    "    for i in range(l):\n",
    "        for j in range(n):\n",
    "            for k in range(m):\n",
    "                if a[i] == b[j] == c[k]:\n",
    "                    L[i+1][j+1][k+1] = L[i][j][k]+1\n",
    "                else:\n",
    "                    L[i+1][j+1][k+1] = max(L[i+1][j+1][k], \n",
    "                                           L[i][j+1][k+1], \n",
    "                                           L[i+1][j][k+1])\n",
    "    return L[i+1][j+1][k+1]"
   ]
  },
  {
   "cell_type": "code",
   "execution_count": 112,
   "metadata": {},
   "outputs": [
    {
     "name": "stdout",
     "output_type": "stream",
     "text": [
      "6\n",
      "3\n"
     ]
    }
   ],
   "source": [
    "print(long_three([8,3,2,1,7], [8,2,1,3,8,10,7], [6,8,3,1,4,7]))"
   ]
  },
  {
   "cell_type": "code",
   "execution_count": null,
   "metadata": {},
   "outputs": [],
   "source": []
  },
  {
   "cell_type": "code",
   "execution_count": null,
   "metadata": {},
   "outputs": [],
   "source": []
  },
  {
   "cell_type": "code",
   "execution_count": null,
   "metadata": {},
   "outputs": [],
   "source": []
  },
  {
   "cell_type": "code",
   "execution_count": null,
   "metadata": {},
   "outputs": [],
   "source": []
  }
 ],
 "metadata": {
  "kernelspec": {
   "display_name": "Python 3",
   "language": "python",
   "name": "python3"
  },
  "language_info": {
   "codemirror_mode": {
    "name": "ipython",
    "version": 3
   },
   "file_extension": ".py",
   "mimetype": "text/x-python",
   "name": "python",
   "nbconvert_exporter": "python",
   "pygments_lexer": "ipython3",
   "version": "3.7.4"
  }
 },
 "nbformat": 4,
 "nbformat_minor": 2
}
