{
 "cells": [
  {
   "cell_type": "code",
   "execution_count": 4,
   "metadata": {},
   "outputs": [],
   "source": [
    "import random"
   ]
  },
  {
   "cell_type": "code",
   "execution_count": 111,
   "metadata": {},
   "outputs": [],
   "source": [
    "# Problem 1 Binary Search 1st Try using Recursion PARTIALLY CORRECT\n",
    "#import sys\n",
    "def binary_search(a, x):\n",
    "    left, right = 0, len(a)\n",
    "    mid  = (left+right)//2\n",
    "    #print(mid)\n",
    "    if a[mid] == x:\n",
    "        #print(mid)\n",
    "        return mid\n",
    "    elif x<a[mid] and mid!=0:\n",
    "        right = mid-1\n",
    "        #print(right)\n",
    "        binary_search(a[left:right+1], x)\n",
    "    elif x>a[mid] and mid!=0:\n",
    "        left = mid+1\n",
    "        print(left)\n",
    "        binary_search(a[left:right], x)\n",
    "    else:\n",
    "        #print(-1)\n",
    "        return -1"
   ]
  },
  {
   "cell_type": "code",
   "execution_count": 112,
   "metadata": {},
   "outputs": [
    {
     "name": "stdout",
     "output_type": "stream",
     "text": [
      "9\n",
      "4\n",
      "None\n"
     ]
    }
   ],
   "source": [
    "print(binary_search([0,1,2,3,4,5,6,7,8,9,10,11,12,13,14,15], 13))"
   ]
  },
  {
   "cell_type": "code",
   "execution_count": 48,
   "metadata": {},
   "outputs": [],
   "source": [
    "# Problem 1 Binary Search 2nd Try Using for loop CORRECT\n",
    "def binary_search(a, x):\n",
    "    left, right = 0, len(a)\n",
    "    mid = (right-left)//2\n",
    "    #print(mid)\n",
    "    while mid<=len(a):\n",
    "        if a[mid] == x:\n",
    "            #print(mid)\n",
    "            return mid\n",
    "        elif x<a[mid] and mid<(len(a)-1):\n",
    "            right = mid-1\n",
    "            mid = (right-left)//2\n",
    "            mid = right-mid\n",
    "        elif x>a[mid] and mid<(len(a)-1):\n",
    "            left = mid+1\n",
    "            #print(left)\n",
    "            mid = (right-left)//2\n",
    "            mid += left\n",
    "        elif x==a[-2]:\n",
    "            return len(a)-2\n",
    "        else:\n",
    "            #print(-1)\n",
    "            return -1"
   ]
  },
  {
   "cell_type": "code",
   "execution_count": 49,
   "metadata": {},
   "outputs": [
    {
     "name": "stdout",
     "output_type": "stream",
     "text": [
      "3\n"
     ]
    }
   ],
   "source": [
    "print(binary_search([1,2,3,4,5], 4))"
   ]
  },
  {
   "cell_type": "code",
   "execution_count": 125,
   "metadata": {},
   "outputs": [],
   "source": [
    "# Problem 2 Majority Element \n",
    "def get_majority_element(a, left, right):\n",
    "    dic = {}\n",
    "    for i in a:\n",
    "        if i not in dic:\n",
    "            dic[i] = 1\n",
    "        else:\n",
    "            dic[i] += 1\n",
    "            if dic[i]>len(a)//2:\n",
    "                return 1  \n",
    "    #print(dic)\n",
    "    return -1"
   ]
  },
  {
   "cell_type": "code",
   "execution_count": 126,
   "metadata": {},
   "outputs": [
    {
     "name": "stdout",
     "output_type": "stream",
     "text": [
      "-1\n"
     ]
    }
   ],
   "source": [
    "print(get_majority_element([512766168,717383758,5,126144732,5,573799007,5,5,5,405079772], 0, 10))"
   ]
  },
  {
   "cell_type": "code",
   "execution_count": 117,
   "metadata": {},
   "outputs": [
    {
     "data": {
      "text/plain": [
       "1000000"
      ]
     },
     "execution_count": 117,
     "metadata": {},
     "output_type": "execute_result"
    }
   ],
   "source": [
    "lis1 = list(range(0,1000000))\n",
    "len(lis1)"
   ]
  },
  {
   "cell_type": "code",
   "execution_count": 278,
   "metadata": {},
   "outputs": [],
   "source": [
    "lis2 = [500]*999998"
   ]
  },
  {
   "cell_type": "code",
   "execution_count": 279,
   "metadata": {},
   "outputs": [
    {
     "data": {
      "text/plain": [
       "1999998"
      ]
     },
     "execution_count": 279,
     "metadata": {},
     "output_type": "execute_result"
    }
   ],
   "source": [
    "lis = lis1+lis2\n",
    "len(lis)"
   ]
  },
  {
   "cell_type": "code",
   "execution_count": 280,
   "metadata": {},
   "outputs": [
    {
     "name": "stdout",
     "output_type": "stream",
     "text": [
      "0\n"
     ]
    }
   ],
   "source": [
    "print(get_majority_element(lis, 0, len(lis)))"
   ]
  },
  {
   "cell_type": "code",
   "execution_count": 85,
   "metadata": {},
   "outputs": [],
   "source": [
    "# Many Many different tries for Quick Sort"
   ]
  },
  {
   "cell_type": "code",
   "execution_count": 24,
   "metadata": {},
   "outputs": [],
   "source": [
    "# Many Many different tries for Quick Sort"
   ]
  },
  {
   "cell_type": "code",
   "execution_count": 22,
   "metadata": {},
   "outputs": [],
   "source": [
    "# Problem 3 Improving QuickSort \n",
    "\n",
    "def partition3(a, l, r):\n",
    "    p = a[l]\n",
    "    x = i = l\n",
    "    y = r\n",
    "    while i <= y:\n",
    "        if a[i] < p:\n",
    "            a[x], a[i] = a[i], a[x]\n",
    "            x += 1\n",
    "            i += 1\n",
    "        elif a[i] > p:\n",
    "            a[y], a[i] = a[i], a[y]\n",
    "            y -= 1\n",
    "        else:\n",
    "            i += 1\n",
    "    return x,y\n",
    "\n",
    "def partition2(a, l, r):\n",
    "    x = a[l]\n",
    "    j = l\n",
    "    for i in range(l + 1, r + 1):\n",
    "        if a[i] < x:\n",
    "            j += 1\n",
    "            a[i], a[j] = a[j], a[i]\n",
    "    a[l], a[j] = a[j], a[l]\n",
    "    return j\n",
    "\n",
    "\n",
    "def randomized_quick_sort(a, l, r):\n",
    "    if l >= r:\n",
    "        return\n",
    "    k = random.randint(l, r)\n",
    "    a[l], a[k] = a[k], a[l]\n",
    "    m, n = partition3(a, l, r)\n",
    "    randomized_quick_sort(a, l, m - 1);\n",
    "    randomized_quick_sort(a, n + 1, r);\n",
    "    return a"
   ]
  },
  {
   "cell_type": "code",
   "execution_count": 23,
   "metadata": {},
   "outputs": [
    {
     "name": "stdout",
     "output_type": "stream",
     "text": [
      "[56, 56, 56, 56, 56, 56, 57, 58, 59, 60, 61, 62, 63, 64, 65, 66, 67, 68, 69, 70, 71, 72, 73, 74, 75, 76, 77, 77, 77, 77, 77, 77, 77, 78, 79, 80, 81, 82, 83, 84, 85, 86, 87, 88, 89, 89, 89, 89, 89, 90, 91, 92, 93, 94, 95, 96, 97, 98, 99, 100, 101, 102, 103, 104, 105, 106, 107, 108, 109, 110, 111, 112, 113, 114, 115, 116, 117, 118, 119, 120, 121, 122, 123, 124, 125, 126, 127, 128, 129, 130, 131, 132, 133, 134, 135, 136, 137, 138, 139, 140, 141, 142, 143, 144, 145, 146, 147, 148, 149, 150, 150, 150, 150, 150, 150, 150, 150, 150, 150, 150, 150, 150, 151, 152, 153, 154, 155, 156, 157, 158, 159, 160, 161, 161, 161, 161, 161, 161, 161, 161, 161, 161, 161, 161, 161, 162, 163, 164, 165, 166, 167, 168, 169, 170, 171, 172, 173, 174, 175, 176, 177, 178, 179, 180, 181, 182, 183, 184, 185, 186, 187, 188, 189, 190, 191, 192, 193, 194, 195, 196, 197, 198, 199]\n",
      "True\n"
     ]
    }
   ],
   "source": [
    "ck1 = list(range(56,200))\n",
    "ck2 = [56]*5\n",
    "ck3 = [77]*6\n",
    "ck4 = [89]*4\n",
    "ck5 = [150]*12\n",
    "ck6 = [161]*12\n",
    "ck = ck1+ck2+ck3+ck4+ck5+ck6\n",
    "#print(ck)\n",
    "ck_return = randomized_quick_sort(ck, 0, len(ck)-1)\n",
    "print(ck_return)\n",
    "ck_sort = sorted(ck)\n",
    "print(ck_sort == ck_return)"
   ]
  },
  {
   "cell_type": "code",
   "execution_count": 64,
   "metadata": {},
   "outputs": [],
   "source": [
    "def binary_search(a, x):\n",
    "    left = 0\n",
    "    right = len(a) - 1\n",
    "    while left <= right:\n",
    "        mid = left + (right - left) // 2\n",
    "        curr_item = a[mid]\n",
    "        if curr_item == x:\n",
    "            return mid\n",
    "        elif x < curr_item:\n",
    "            right = mid - 1\n",
    "        else:\n",
    "            left = mid + 1\n",
    "    return -1"
   ]
  },
  {
   "cell_type": "code",
   "execution_count": 65,
   "metadata": {},
   "outputs": [
    {
     "name": "stdout",
     "output_type": "stream",
     "text": [
      "3\n"
     ]
    }
   ],
   "source": [
    "print(binary_search([1,2,3,4,5], 4))"
   ]
  },
  {
   "cell_type": "code",
   "execution_count": 83,
   "metadata": {},
   "outputs": [],
   "source": [
    "def get_majority_element(a, left, right):\n",
    "    if left == right:\n",
    "        return -1\n",
    "    if left + 1 == right:\n",
    "        return a[left]\n",
    "    #write your code here REFER TO JUPYTER NOTEBOOK\n",
    "    dic = {}\n",
    "    for i in a:\n",
    "        if i not in dic:\n",
    "            dic[i] = 0\n",
    "        else:\n",
    "            dic[i] += 1\n",
    "            if dic[i] >=right // 2:\n",
    "                return 1    # print(dic)\n",
    "        return 0\n",
    "\n",
    "    return -1"
   ]
  },
  {
   "cell_type": "code",
   "execution_count": 84,
   "metadata": {},
   "outputs": [
    {
     "name": "stdout",
     "output_type": "stream",
     "text": [
      "0\n"
     ]
    }
   ],
   "source": [
    "print(get_majority_element([512766168,717383758,5,126144732,5,573799007,5,5,5,405079772], 0, 9))"
   ]
  },
  {
   "cell_type": "code",
   "execution_count": null,
   "metadata": {},
   "outputs": [],
   "source": []
  }
 ],
 "metadata": {
  "kernelspec": {
   "display_name": "Python 3",
   "language": "python",
   "name": "python3"
  },
  "language_info": {
   "codemirror_mode": {
    "name": "ipython",
    "version": 3
   },
   "file_extension": ".py",
   "mimetype": "text/x-python",
   "name": "python",
   "nbconvert_exporter": "python",
   "pygments_lexer": "ipython3",
   "version": "3.7.4"
  }
 },
 "nbformat": 4,
 "nbformat_minor": 2
}
