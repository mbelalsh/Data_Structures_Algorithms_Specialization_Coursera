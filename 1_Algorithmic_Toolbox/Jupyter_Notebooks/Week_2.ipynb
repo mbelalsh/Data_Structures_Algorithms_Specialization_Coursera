{
 "cells": [
  {
   "cell_type": "code",
   "execution_count": 5,
   "metadata": {},
   "outputs": [],
   "source": [
    "from time import time\n",
    "# Problem 1. Efficient First Try Using Recursion\n",
    "def fibonacci1(n):\n",
    "    if n == 1:\n",
    "        return 1, 0\n",
    "    elif n == 0:\n",
    "        return 0, 0\n",
    "    else:\n",
    "        a, b = fibonacci1(n-1)\n",
    "        return (a+b)%10, a"
   ]
  },
  {
   "cell_type": "code",
   "execution_count": 91,
   "metadata": {},
   "outputs": [
    {
     "name": "stdout",
     "output_type": "stream",
     "text": [
      "(5, 6)\n",
      "Time it took was 0.000933\n"
     ]
    }
   ],
   "source": [
    "t2 = time()\n",
    "print(fibonacci1(280))\n",
    "t3 = time()\n",
    "print(\"Time it took was %f\" %(t3-t2))"
   ]
  },
  {
   "cell_type": "code",
   "execution_count": 92,
   "metadata": {},
   "outputs": [],
   "source": [
    "# Problem 1. Efficient Second Try using for-Loop\n",
    "def fibonacci2(n):\n",
    "    if n < 2: return n\n",
    "    else:\n",
    "        a, b = 0, 1\n",
    "        for i in range(1,n):\n",
    "            a, b = b, (a+b)\n",
    "        return b"
   ]
  },
  {
   "cell_type": "code",
   "execution_count": 93,
   "metadata": {},
   "outputs": [
    {
     "name": "stdout",
     "output_type": "stream",
     "text": [
      "354224848179261915075\n",
      "Time it took was 0.000178\n"
     ]
    }
   ],
   "source": [
    "t4 = time()\n",
    "print(fibonacci2(100))\n",
    "t5 = time()\n",
    "print(\"Time it took was %f\" %(t5-t4))"
   ]
  },
  {
   "cell_type": "code",
   "execution_count": 11,
   "metadata": {},
   "outputs": [],
   "source": [
    "# Problem 2. \n",
    "def fib_last_digit(n):\n",
    "    if n < 2: \n",
    "        return n\n",
    "    else:\n",
    "        a, b = 0, 1\n",
    "        for i in range(1,n):\n",
    "            a, b = b, (a+b) % 10\n",
    "        return b"
   ]
  },
  {
   "cell_type": "code",
   "execution_count": 14,
   "metadata": {},
   "outputs": [
    {
     "name": "stdout",
     "output_type": "stream",
     "text": [
      "5\n"
     ]
    }
   ],
   "source": [
    "#t6 = time()\n",
    "print(fib_last_digit(327305))\n",
    "#t7 = time()\n",
    "#print(\"Time it took was %f\" %(t7-t6))"
   ]
  },
  {
   "cell_type": "code",
   "execution_count": 87,
   "metadata": {},
   "outputs": [],
   "source": [
    "# Problem 3. Greatest Common Divisor\n",
    "def GCD(a, b):\n",
    "    if a<b:\n",
    "        a, b = b, a\n",
    "    while b != 0: \n",
    "        a,b = b, a%b\n",
    "    return a"
   ]
  },
  {
   "cell_type": "code",
   "execution_count": 89,
   "metadata": {},
   "outputs": [
    {
     "name": "stdout",
     "output_type": "stream",
     "text": [
      "8\n"
     ]
    }
   ],
   "source": [
    "print(GCD(3560, 56))"
   ]
  },
  {
   "cell_type": "code",
   "execution_count": 1,
   "metadata": {},
   "outputs": [],
   "source": [
    "# Problem 4. Least Common Multiple\n",
    "def LCM(a,b):\n",
    "    m = a*b\n",
    "    if a<b:\n",
    "        a, b = b, a\n",
    "    while b != 0: \n",
    "        a,b = b, a%b\n",
    "    return int(m/a)"
   ]
  },
  {
   "cell_type": "code",
   "execution_count": 2,
   "metadata": {},
   "outputs": [
    {
     "name": "stdout",
     "output_type": "stream",
     "text": [
      "467970912861\n"
     ]
    }
   ],
   "source": [
    "print(LCM(761457, 614573))"
   ]
  },
  {
   "cell_type": "code",
   "execution_count": 39,
   "metadata": {},
   "outputs": [],
   "source": [
    "# Problem 5. Fibonacci Number Again\n",
    "def pisano_per(n, m):\n",
    "    lis = [0,1]\n",
    "    if n < 2: \n",
    "        return n\n",
    "    else:\n",
    "        a, b = 0, 1\n",
    "        i = 2\n",
    "        c = True\n",
    "        while c:\n",
    "            i = i + 1\n",
    "            a, b = b, (a+b)\n",
    "            rem1 = a%m\n",
    "            rem2 = b%m\n",
    "            lis.append(rem2)\n",
    "            if rem2 == 1 and rem1 == 0:\n",
    "                pis_per = i-2\n",
    "                c = False\n",
    "    ind = n%pis_per\n",
    "    #print(lis, i, ind)\n",
    "    return lis[ind]"
   ]
  },
  {
   "cell_type": "code",
   "execution_count": 41,
   "metadata": {},
   "outputs": [
    {
     "name": "stdout",
     "output_type": "stream",
     "text": [
      "[0, 1, 1, 2, 0, 2, 2, 1, 0, 1] 10 0\n",
      "0\n"
     ]
    }
   ],
   "source": [
    "print(pisano_per(8, 3))"
   ]
  },
  {
   "cell_type": "code",
   "execution_count": 158,
   "metadata": {},
   "outputs": [],
   "source": [
    "# Problem 6. Last Digit of the Sum of Fibonacci Numbers\n",
    "def last_digit1(n):\n",
    "    if n < 2: return n\n",
    "    else:\n",
    "        a, b = 0, 1\n",
    "        cum = 1\n",
    "        for i in range(1,n):\n",
    "            a, b = b, (a+b)%10\n",
    "            cum += b\n",
    "    return cum%10"
   ]
  },
  {
   "cell_type": "code",
   "execution_count": 159,
   "metadata": {},
   "outputs": [
    {
     "name": "stdout",
     "output_type": "stream",
     "text": [
      "3\n"
     ]
    }
   ],
   "source": [
    "print(last_digit1(10))"
   ]
  },
  {
   "cell_type": "code",
   "execution_count": 180,
   "metadata": {},
   "outputs": [],
   "source": [
    "# Problem 7. Last Digit of the Sum of Fibonacci Numbers Again\n",
    "def last_digit2(m,n):\n",
    "    if m==0 and n==1: \n",
    "        return n\n",
    "    elif m==0 and n==2: \n",
    "        return n\n",
    "    elif m==1 and n==2: \n",
    "        return n\n",
    "    elif m==0 and n>2:\n",
    "        a, b = 0, 1\n",
    "        cum = 1\n",
    "        for x in range(1,n):\n",
    "            a, b = b, (a+b)%10\n",
    "            cum += b\n",
    "        return cum%10\n",
    "    else:\n",
    "        a, b = 0, 1\n",
    "        cum = 0\n",
    "        i = 1\n",
    "        for x in range(1,n):\n",
    "            i += 1\n",
    "            a, b = b, (a+b)%10\n",
    "            if i>=m:\n",
    "                cum += b\n",
    "        return cum%10"
   ]
  },
  {
   "cell_type": "code",
   "execution_count": 184,
   "metadata": {},
   "outputs": [
    {
     "name": "stdout",
     "output_type": "stream",
     "text": [
      "5\n"
     ]
    }
   ],
   "source": [
    "print(last_digit2(1000,100000000))"
   ]
  },
  {
   "cell_type": "code",
   "execution_count": 188,
   "metadata": {},
   "outputs": [],
   "source": [
    "# Problem 8. Last Digit of the Sum of Squares Fibonacci Numbers First Try\n",
    "def last_digit3(n):\n",
    "    if n < 2: return n\n",
    "    else:\n",
    "        a, b = 0, 1\n",
    "        cum = 1\n",
    "        for i in range(1,n):\n",
    "            a, b = b, (a+b)%10\n",
    "            cum += b**2\n",
    "    return cum%10"
   ]
  },
  {
   "cell_type": "code",
   "execution_count": 202,
   "metadata": {},
   "outputs": [
    {
     "name": "stdout",
     "output_type": "stream",
     "text": [
      "0\n",
      "Time it took was 40.815563\n"
     ]
    }
   ],
   "source": [
    "t10 = time()\n",
    "print(last_digit3(123456789))\n",
    "t11 = time()\n",
    "print(\"Time it took was %f\" %(t11-t10))"
   ]
  },
  {
   "cell_type": "code",
   "execution_count": 197,
   "metadata": {},
   "outputs": [],
   "source": [
    "# Problem 8. Last Digit of the Sum of Squares Fibonacci Numbers Second Try\n",
    "def last_digit4(n):\n",
    "    if n < 2: return n\n",
    "    else:\n",
    "        a, b = 0, 1\n",
    "        cum = 1\n",
    "        for i in range(1,n+1):\n",
    "            a, b = b, (a+b)%10\n",
    "    return a*b"
   ]
  },
  {
   "cell_type": "code",
   "execution_count": 203,
   "metadata": {},
   "outputs": [
    {
     "name": "stdout",
     "output_type": "stream",
     "text": [
      "0\n",
      "Time it took was 83.640832\n"
     ]
    }
   ],
   "source": [
    "t12 = time()\n",
    "print(last_digit4(1234567890))\n",
    "t13 = time()\n",
    "print(\"Time it took was %f\" %(t13-t12))"
   ]
  },
  {
   "cell_type": "code",
   "execution_count": null,
   "metadata": {},
   "outputs": [],
   "source": []
  }
 ],
 "metadata": {
  "kernelspec": {
   "display_name": "Python 3",
   "language": "python",
   "name": "python3"
  },
  "language_info": {
   "codemirror_mode": {
    "name": "ipython",
    "version": 3
   },
   "file_extension": ".py",
   "mimetype": "text/x-python",
   "name": "python",
   "nbconvert_exporter": "python",
   "pygments_lexer": "ipython3",
   "version": "3.7.4"
  }
 },
 "nbformat": 4,
 "nbformat_minor": 2
}
