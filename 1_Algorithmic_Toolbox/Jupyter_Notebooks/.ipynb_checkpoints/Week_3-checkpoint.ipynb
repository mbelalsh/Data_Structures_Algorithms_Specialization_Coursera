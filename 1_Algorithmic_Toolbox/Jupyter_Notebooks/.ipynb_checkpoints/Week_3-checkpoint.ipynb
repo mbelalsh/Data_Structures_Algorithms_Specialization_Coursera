{
 "cells": [
  {
   "cell_type": "code",
   "execution_count": 12,
   "metadata": {},
   "outputs": [],
   "source": [
    "# Problem 1. Money Change\n",
    "def money_change(m):\n",
    "    i = 0\n",
    "    j = 0\n",
    "    while i<m:\n",
    "        if i+10<=m:\n",
    "            i += 10\n",
    "            j += 1\n",
    "        elif i+5<=m:\n",
    "            i += 5\n",
    "            j += 1\n",
    "        else:\n",
    "            i += 1\n",
    "            j += 1\n",
    "    return j"
   ]
  },
  {
   "cell_type": "code",
   "execution_count": 20,
   "metadata": {},
   "outputs": [
    {
     "name": "stdout",
     "output_type": "stream",
     "text": [
      "9\n"
     ]
    }
   ],
   "source": [
    "print(money_change(76))"
   ]
  },
  {
   "cell_type": "code",
   "execution_count": 33,
   "metadata": {},
   "outputs": [],
   "source": [
    "# Problem 3. Maximum Salary Incomplete\n",
    "def max_salary(n,lis):\n",
    "    sorted_lis = sorted(lis, key = lambda x: str(x), reverse = True)\n",
    "    print(sorted_lis)\n",
    "    string = ''\n",
    "    for i in sorted_lis:\n",
    "        string += str(i)\n",
    "    return int(string)"
   ]
  },
  {
   "cell_type": "code",
   "execution_count": 34,
   "metadata": {},
   "outputs": [
    {
     "name": "stdout",
     "output_type": "stream",
     "text": [
      "[21, 2]\n",
      "212\n"
     ]
    }
   ],
   "source": [
    "print(max_salary(2, [21,2]))"
   ]
  },
  {
   "cell_type": "code",
   "execution_count": 35,
   "metadata": {},
   "outputs": [],
   "source": [
    "# Problem 3. Max. Ads Revenue\n",
    "def max_rev(n,lis1,lis2):\n",
    "    sorted_lis1 = sorted(lis1, reverse = True)\n",
    "    sorted_lis2 = sorted(lis2, reverse = True)\n",
    "    cum = 0\n",
    "    for i in range(n):\n",
    "        cum += sorted_lis1[i]*sorted_lis2[i] \n",
    "    return cum"
   ]
  },
  {
   "cell_type": "code",
   "execution_count": 36,
   "metadata": {},
   "outputs": [
    {
     "name": "stdout",
     "output_type": "stream",
     "text": [
      "23\n"
     ]
    }
   ],
   "source": [
    "print(max_rev(3,[1,3,-5],[-2,4,1]))"
   ]
  },
  {
   "cell_type": "code",
   "execution_count": 167,
   "metadata": {},
   "outputs": [],
   "source": [
    "import sys\n",
    "# Problem 2. Maximum Value of the Loot Correct \n",
    "def get_optimal_value(capacity, weights, values):\n",
    "    lis_tup = []\n",
    "    for i in range(len(weights)):\n",
    "        data = (weights[i],float(values[i]/weights[i]))\n",
    "        lis_tup.append(data)\n",
    "    #print(lis_tup)\n",
    "    lis_tups = [(k, v) for k, v in sorted(lis_tup, key=lambda x: x[1], reverse= True)]\n",
    "    #print(lis_tups)\n",
    "    weight = 0\n",
    "    value = 0\n",
    "    #bol = True\n",
    "    for w1, ratio in lis_tups:\n",
    "        cap = float(capacity-weight)\n",
    "        if w1<cap:\n",
    "            value += float(ratio)*w1\n",
    "            weight += w1\n",
    "            #print(weight)\n",
    "        else:\n",
    "            value += (cap/w1)*float(ratio)*w1\n",
    "            weight += cap\n",
    "            #print(weight)\n",
    "        if weight == capacity:\n",
    "            #bol = False\n",
    "            return value\n",
    "    return value"
   ]
  },
  {
   "cell_type": "code",
   "execution_count": 168,
   "metadata": {},
   "outputs": [
    {
     "name": "stdout",
     "output_type": "stream",
     "text": [
      "180.0\n"
     ]
    }
   ],
   "source": [
    "print(get_optimal_value(50, [20,50,30,50],[60,100,120,150]))"
   ]
  },
  {
   "cell_type": "code",
   "execution_count": 169,
   "metadata": {},
   "outputs": [
    {
     "name": "stdout",
     "output_type": "stream",
     "text": [
      "500.00000000000006\n"
     ]
    }
   ],
   "source": [
    "print(get_optimal_value(1000, [30],[500]))"
   ]
  },
  {
   "cell_type": "code",
   "execution_count": 94,
   "metadata": {},
   "outputs": [
    {
     "name": "stdout",
     "output_type": "stream",
     "text": [
      "3 50 60 20 100 50 120 30\n",
      "[(20, 3.0), (50, 2.0), (30, 4.0)]\n",
      "[(30, 4.0), (20, 3.0), (50, 2.0)]\n",
      "30\n",
      "50\n",
      "180.0000000000\n"
     ]
    }
   ],
   "source": [
    "if __name__ == \"__main__\":\n",
    "    data = list(map(int, input().split()))\n",
    "    n, capacity = data[0:2]\n",
    "    values = data[2:(2 * n + 2):2]\n",
    "    weights = data[3:(2 * n + 2):2]\n",
    "    opt_value = get_optimal_value(capacity, weights, values)\n",
    "    print(\"{:.10f}\".format(opt_value))"
   ]
  },
  {
   "cell_type": "code",
   "execution_count": null,
   "metadata": {},
   "outputs": [],
   "source": []
  },
  {
   "cell_type": "code",
   "execution_count": null,
   "metadata": {},
   "outputs": [],
   "source": []
  },
  {
   "cell_type": "code",
   "execution_count": null,
   "metadata": {},
   "outputs": [],
   "source": []
  },
  {
   "cell_type": "code",
   "execution_count": null,
   "metadata": {},
   "outputs": [],
   "source": []
  }
 ],
 "metadata": {
  "kernelspec": {
   "display_name": "Python 3",
   "language": "python",
   "name": "python3"
  },
  "language_info": {
   "codemirror_mode": {
    "name": "ipython",
    "version": 3
   },
   "file_extension": ".py",
   "mimetype": "text/x-python",
   "name": "python",
   "nbconvert_exporter": "python",
   "pygments_lexer": "ipython3",
   "version": "3.7.4"
  }
 },
 "nbformat": 4,
 "nbformat_minor": 2
}
