{
 "cells": [
  {
   "cell_type": "code",
   "execution_count": 116,
   "metadata": {},
   "outputs": [],
   "source": [
    "# Problem 1 Maximum Amount of Gold\n",
    "def max_gold(W,w):\n",
    "    w_len = len(w)\n",
    "    L = [[0]*(W+1) for i in range(w_len+1)]\n",
    "    for i in range(1,w_len+1):\n",
    "            for j in range(1,W+1):\n",
    "                k = i-1\n",
    "                if w[k]>j:\n",
    "                    L[i][j] = L[i-1][j]\n",
    "                elif L[i-1][j-w[k]]+w[k]<=j:\n",
    "                    L[i][j] = max(L[i-1][j-w[k]]+w[k], L[i-1][j])\n",
    "                else:\n",
    "                    L[i][j] = L[i-1][j]\n",
    "    return L[-1][-1]"
   ]
  },
  {
   "cell_type": "code",
   "execution_count": 118,
   "metadata": {},
   "outputs": [
    {
     "name": "stdout",
     "output_type": "stream",
     "text": [
      "9\n"
     ]
    }
   ],
   "source": [
    "print(max_gold(10,[1,4,8]))"
   ]
  },
  {
   "cell_type": "code",
   "execution_count": null,
   "metadata": {},
   "outputs": [],
   "source": []
  },
  {
   "cell_type": "code",
   "execution_count": null,
   "metadata": {},
   "outputs": [],
   "source": []
  },
  {
   "cell_type": "code",
   "execution_count": 158,
   "metadata": {},
   "outputs": [],
   "source": [
    "# Problem 2 Partitioning Souvenirs\n",
    "def par_sov(A):\n",
    "    a = len(A)\n",
    "    sum_a = sum(A)\n",
    "    if sum_a%3 != 0:\n",
    "        return 0\n",
    "    else:\n",
    "        div = sum_a//3\n",
    "        L = [[False for i in range(div + 1)] for i in range(a + 1)]\n",
    "        for i in range(a + 1):\n",
    "            L[i][0] = True\n",
    "        for i in range(1, div + 1):\n",
    "            L[0][i] = False\n",
    "        for i in range(1, a+1):\n",
    "            for j in range(1, div+1):\n",
    "                if A[i - 1] > j:\n",
    "                    L[i][j] = L[i - 1][j]\n",
    "                elif A[i - 1] <= j:\n",
    "                    L[i][j] = L[i - 1][j] or L[i - 1][j - A[i - 1]]\n",
    "        ans = L[-1][-1]\n",
    "        if ans:\n",
    "            return 1\n",
    "        else:\n",
    "            return 0"
   ]
  },
  {
   "cell_type": "code",
   "execution_count": 159,
   "metadata": {},
   "outputs": [
    {
     "name": "stdout",
     "output_type": "stream",
     "text": [
      "0\n"
     ]
    }
   ],
   "source": [
    "print(par_sov([40]))"
   ]
  },
  {
   "cell_type": "code",
   "execution_count": null,
   "metadata": {},
   "outputs": [],
   "source": []
  }
 ],
 "metadata": {
  "kernelspec": {
   "display_name": "Python 3",
   "language": "python",
   "name": "python3"
  },
  "language_info": {
   "codemirror_mode": {
    "name": "ipython",
    "version": 3
   },
   "file_extension": ".py",
   "mimetype": "text/x-python",
   "name": "python",
   "nbconvert_exporter": "python",
   "pygments_lexer": "ipython3",
   "version": "3.7.4"
  }
 },
 "nbformat": 4,
 "nbformat_minor": 2
}
