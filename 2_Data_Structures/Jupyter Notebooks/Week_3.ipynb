{
 "cells": [
  {
   "cell_type": "code",
   "execution_count": 3,
   "metadata": {},
   "outputs": [],
   "source": [
    "# Problem 1 Rabin-Karp's Algorithm\n",
    "import random"
   ]
  },
  {
   "cell_type": "code",
   "execution_count": 7,
   "metadata": {},
   "outputs": [
    {
     "name": "stdout",
     "output_type": "stream",
     "text": [
      "aba\n",
      "abacaba\n",
      "0 4\n"
     ]
    }
   ],
   "source": [
    "def read_input():\n",
    "    return (input().rstrip(), input().rstrip())\n",
    "\n",
    "def print_occurrences(output):\n",
    "    print(' '.join(map(str, output)))\n",
    "\n",
    "def hash_func(s, prime_no, x):\n",
    "    z = 0\n",
    "    for st in reversed(s):\n",
    "        z = (z * x + ord(st)) % prime_no\n",
    "    return z\n",
    "\n",
    "def precomputation_hashes(text, pattern_len, prime_no, x):\n",
    "    H = [0] * (len(text) - pattern_len + 1)\n",
    "    s = text[-pattern_len:]\n",
    "    H[len(text)-pattern_len] = hash_func(s, prime_no, x)\n",
    "    y = 1\n",
    "    for i in range(1, pattern_len+1):\n",
    "        y = (y * x) % prime_no\n",
    "    for i in reversed(range(len(text) - pattern_len)):\n",
    "        #print(i)\n",
    "        precomp_hash = x * H[i + 1] + ord(text[i]) - y * ord(text[i + pattern_len])\n",
    "        while(precomp_hash < 0):\n",
    "            precomp_hash += prime_no\n",
    "        H[i] = precomp_hash % prime_no\n",
    "    #print(H)\n",
    "    return H\n",
    "\n",
    "def get_occurrences(pattern, text):\n",
    "    prime_no = 1000000007\n",
    "    x = random.randint(1, prime_no)\n",
    "    text_len = len(text)\n",
    "    pattern_len = len(pattern)\n",
    "    pat_hash = hash_func(pattern, p, x)\n",
    "    #print(phash)\n",
    "    H = precomputation_hashes(text, pattern_len, prime_no, x)\n",
    "    return [\n",
    "        i \n",
    "        for i in range(len(text) - len(pattern) + 1) \n",
    "        if pat_hash == H[i] and text[i:i + len(pattern)] == pattern\n",
    "    ]\n",
    "\n",
    "if __name__ == '__main__':\n",
    "    print_occurrences(get_occurrences(*read_input()))"
   ]
  },
  {
   "cell_type": "code",
   "execution_count": 9,
   "metadata": {},
   "outputs": [
    {
     "name": "stdout",
     "output_type": "stream",
     "text": [
      "5\n",
      "3\n",
      "add world\n",
      "add HellO\n",
      "check 4\n",
      "HellO world\n"
     ]
    }
   ],
   "source": [
    "class Query:\n",
    "\n",
    "    def __init__(self, query):\n",
    "        self.type = query[0]\n",
    "        if self.type == 'check':\n",
    "            self.ind = int(query[1])\n",
    "        else:\n",
    "            self.s = query[1]   #s is string\n",
    "\n",
    "\n",
    "class QueryProcessor:\n",
    "    _multiplier = 263\n",
    "    _prime = 1000000007\n",
    "\n",
    "    def __init__(self, bucket_count):\n",
    "        self.bucket_count = bucket_count\n",
    "        # store all strings in one list\n",
    "        self.elems = [[] for i in range(bucket_count)]\n",
    "\n",
    "    def _hash_func(self, s):\n",
    "        ans = 0\n",
    "        for c in reversed(s):\n",
    "            ans = (ans * self._multiplier + ord(c)) % self._prime\n",
    "        return ans % self.bucket_count\n",
    "\n",
    "    def write_search_result(self, was_found):\n",
    "        print('yes' if was_found else 'no')\n",
    "\n",
    "    def write_chain(self, chain): \n",
    "        print(' '.join(chain))\n",
    "\n",
    "    def read_query(self):\n",
    "        return Query(input().split())\n",
    "\n",
    "    def process_query(self, query):\n",
    "        if query.type == \"check\":\n",
    "            self.write_chain(self.elems[query.ind])\n",
    "        else:\n",
    "            if query.type == 'add' and (query.s not in self.elems[ele_hash]):\n",
    "                ele_hash = self._hash_func(query.s)\n",
    "                self.elems[ele_hash].insert(0,query.s)\n",
    "            elif query.type == 'find':\n",
    "                ele_hash = self._hash_func(query.s)\n",
    "                if query.s in self.elems[ele_hash]:\n",
    "                    print('yes')\n",
    "                else:\n",
    "                    print('no')\n",
    "            elif query.type == 'del':\n",
    "                ele_hash = self._hash_func(query.s)\n",
    "                try:\n",
    "                    self.elems[ele_hash].remove(query.s)\n",
    "                except ValueError:\n",
    "                    pass\n",
    "\n",
    "    def process_queries(self):\n",
    "        n = int(input())\n",
    "        for i in range(n):\n",
    "            self.process_query(self.read_query())\n",
    "\n",
    "if __name__ == '__main__':\n",
    "    bucket_count = int(input())\n",
    "    proc = QueryProcessor(bucket_count)\n",
    "    proc.process_queries()"
   ]
  },
  {
   "cell_type": "code",
   "execution_count": 1,
   "metadata": {},
   "outputs": [
    {
     "name": "stdout",
     "output_type": "stream",
     "text": [
      "aaaaa\n",
      "baaaaaaa\n",
      "1 2 3\n"
     ]
    }
   ],
   "source": [
    "p = 1000000007 \n",
    "x = 263\n",
    "def read_input():\n",
    "\treturn (input().rstrip(), input().rstrip())\n",
    "\n",
    "def print_occurrences(output):\n",
    "\tprint(' '.join(map(str, output)))\n",
    "\n",
    "def get_occurrences(pattern, text):\n",
    "\toutput = []\n",
    "\tl = len(pattern)\n",
    "\thashedValue = sum([ord(pattern[i]) for i in range(len(pattern))])\n",
    "\tcurrentHashed = sum([ord(text[:l][i]) for i in range(len(text[:l]))])\n",
    "\tif text[:l] == pattern:\n",
    "\t\toutput.append(0)\n",
    "\tfor i in range(1,len(text)-l+1):\n",
    "\t\tcurrentHashed = currentHashed - ord(text[i-1]) + ord(text[i+l-1])\n",
    "\t\tif currentHashed == hashedValue:\n",
    "\t\t\tif text[i:i+l] == pattern: output.append(i)\n",
    "\treturn output\n",
    "\n",
    "\n",
    "\n",
    "if __name__ == '__main__':\n",
    "\tprint_occurrences(get_occurrences(*read_input()))"
   ]
  },
  {
   "cell_type": "code",
   "execution_count": null,
   "metadata": {},
   "outputs": [],
   "source": []
  }
 ],
 "metadata": {
  "kernelspec": {
   "display_name": "Python 3",
   "language": "python",
   "name": "python3"
  },
  "language_info": {
   "codemirror_mode": {
    "name": "ipython",
    "version": 3
   },
   "file_extension": ".py",
   "mimetype": "text/x-python",
   "name": "python",
   "nbconvert_exporter": "python",
   "pygments_lexer": "ipython3",
   "version": "3.7.4"
  }
 },
 "nbformat": 4,
 "nbformat_minor": 2
}
