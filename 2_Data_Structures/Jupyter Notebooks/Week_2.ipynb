{
 "cells": [
  {
   "cell_type": "code",
   "execution_count": 4,
   "metadata": {},
   "outputs": [],
   "source": [
    "# Problem 1 Array into Heap\n",
    "def min_heapify(arr):\n",
    "    swaps_list = []\n",
    "    swaps = 0\n",
    "    end = len(arr) - 1\n",
    "    last_parent = (end - 1) // 2\n",
    "    # Iterate from last parent to first\n",
    "    for parent in range(last_parent, -1, -1):\n",
    "        current_parent = parent\n",
    "        # Iterate from current_parent to last_parent\n",
    "        while current_parent <= last_parent:\n",
    "            # Find lesser child of current_parent\n",
    "            child = 2 * current_parent + 1\n",
    "            if child + 1 <= end and arr[child] > arr[child + 1]:\n",
    "                   child = child + 1\n",
    "            # Swap if child is less than parent\n",
    "            if arr[child] < arr[current_parent]:\n",
    "                swaps += 1\n",
    "                arr[current_parent], arr[child] = arr[child], arr[current_parent]\n",
    "                swaps_list.append((current_parent,child))\n",
    "                current_parent = child\n",
    "            # If no swap occured, no need to keep iterating\n",
    "            else:\n",
    "                break\n",
    "    return swaps, swaps_list"
   ]
  },
  {
   "cell_type": "code",
   "execution_count": 5,
   "metadata": {},
   "outputs": [
    {
     "name": "stdout",
     "output_type": "stream",
     "text": [
      "3\n",
      "(1, 4)\n",
      "(0, 1)\n",
      "(1, 3)\n"
     ]
    }
   ],
   "source": [
    "swaps, swaps_list = min_heapify([5, 4, 3, 2, 1])\n",
    "print(swaps)\n",
    "for i in range(len(swaps_list)):\n",
    "    print(swaps_list[i])"
   ]
  },
  {
   "cell_type": "code",
   "execution_count": 9,
   "metadata": {},
   "outputs": [
    {
     "name": "stdout",
     "output_type": "stream",
     "text": [
      "5 \n",
      "5 4 3 2 1\n",
      "3\n",
      "1 4\n",
      "0 1\n",
      "1 3\n"
     ]
    }
   ],
   "source": [
    "def main():\n",
    "    n = int(input())\n",
    "    data = list(map(int, input().split()))\n",
    "    assert len(data) == n\n",
    "\n",
    "    swaps, swaps_list = min_heapify(data)\n",
    "    print(swaps)\n",
    "    for i, j in swaps_list:\n",
    "        print(i,j)\n",
    "\n",
    "if __name__ == \"__main__\":\n",
    "    main()\n"
   ]
  },
  {
   "cell_type": "code",
   "execution_count": null,
   "metadata": {},
   "outputs": [],
   "source": []
  },
  {
   "cell_type": "code",
   "execution_count": 2,
   "metadata": {},
   "outputs": [],
   "source": [
    "# Problem 2 Parallel Processing\n",
    "from time import time\n",
    "from heapq import heappush, heappop, heapify\n",
    "from collections import namedtuple"
   ]
  },
  {
   "cell_type": "code",
   "execution_count": 3,
   "metadata": {},
   "outputs": [],
   "source": [
    "AssignedJob = namedtuple(\"AssignedJob\", [\"worker\", \"started_at\"])\n",
    "\n",
    "def assign_jobs(n_workers, jobs):\n",
    "    # TODO: replace this code with a faster algorithm.\n",
    "    result = []\n",
    "    next_free_time = [(0, i) for i in range(n_workers)]\n",
    "    heapify(next_free_time)\n",
    "    for job in jobs:\n",
    "        next_time, next_worker = heappop(next_free_time)\n",
    "        result.append(AssignedJob(next_worker, next_time))\n",
    "        next_time += job\n",
    "        heappush(next_free_time, (next_time, next_worker))\n",
    "\n",
    "    return result"
   ]
  },
  {
   "cell_type": "code",
   "execution_count": null,
   "metadata": {},
   "outputs": [],
   "source": []
  },
  {
   "cell_type": "code",
   "execution_count": 11,
   "metadata": {},
   "outputs": [
    {
     "name": "stdout",
     "output_type": "stream",
     "text": [
      "2 5 \n",
      "1 2 3 4 5\n",
      "0 0\n",
      "1 0\n",
      "0 1\n",
      "1 2\n",
      "0 4\n",
      "Time it took was 0.000408\n"
     ]
    }
   ],
   "source": [
    "def main():\n",
    "    n_workers, n_jobs = map(int, input().split())\n",
    "    jobs = list(map(int, input().split()))\n",
    "    assert len(jobs) == n_jobs\n",
    "    t1 = time()\n",
    "    assigned_jobs = assign_jobs(n_workers, jobs)\n",
    "    \n",
    "    for job in assigned_jobs:\n",
    "        print(job.worker, job.started_at)\n",
    "    t2 = time()\n",
    "    print(\"Time it took was %f\" %(t2-t1))\n",
    "    \n",
    "if __name__ == \"__main__\":\n",
    "    main()\n"
   ]
  },
  {
   "cell_type": "code",
   "execution_count": null,
   "metadata": {},
   "outputs": [],
   "source": []
  }
 ],
 "metadata": {
  "kernelspec": {
   "display_name": "Python 3",
   "language": "python",
   "name": "python3"
  },
  "language_info": {
   "codemirror_mode": {
    "name": "ipython",
    "version": 3
   },
   "file_extension": ".py",
   "mimetype": "text/x-python",
   "name": "python",
   "nbconvert_exporter": "python",
   "pygments_lexer": "ipython3",
   "version": "3.7.4"
  }
 },
 "nbformat": 4,
 "nbformat_minor": 2
}
