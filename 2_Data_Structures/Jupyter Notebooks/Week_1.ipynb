{
 "cells": [
  {
   "cell_type": "code",
   "execution_count": 2,
   "metadata": {},
   "outputs": [],
   "source": [
    "# Problem 1 Check brackets in the code\n",
    "\n",
    "class ArrayStack:\n",
    "    def __init__(self):\n",
    "        self._data = []                       \n",
    "\n",
    "    def __len__(self):\n",
    "        return len(self._data)\n",
    "\n",
    "    def is_empty(self):\n",
    "        return len(self._data) == 0\n",
    "\n",
    "    def push(self, e):\n",
    "        self._data.append(e)                  \n",
    "\n",
    "    def top(self):\n",
    "        if self.is_empty():\n",
    "          raise Empty('Stack is empty')\n",
    "        return self._data[-1]                 \n",
    "\n",
    "    def pop(self):\n",
    "        if self.is_empty():\n",
    "          raise Empty('Stack is empty')\n",
    "        return self._data.pop()               "
   ]
  },
  {
   "cell_type": "code",
   "execution_count": 82,
   "metadata": {},
   "outputs": [],
   "source": [
    "S = ArrayStack()\n",
    "def find_mismatch(expression):\n",
    "    opening = '({['                               \n",
    "    closing = ')}]' \n",
    "    accum = 0\n",
    "    sec = 0\n",
    "    S = ArrayStack()\n",
    "    for index, x in enumerate(expression, start=1):\n",
    "        #accum = accum + 1\n",
    "        if x in opening:\n",
    "            S.push((index,x))\n",
    "        elif x in closing:\n",
    "            if S.is_empty():\n",
    "                return index\n",
    "            j, k = S.pop()\n",
    "            if closing.index(x) != opening.index(k):\n",
    "                return index\n",
    "            #if not S.is_empty():\n",
    "            #   sec += 1\n",
    "            #    accum = accum - 2\n",
    "    if S.is_empty():\n",
    "        return 'Success'\n",
    "    else:\n",
    "        index, x = S.pop()\n",
    "        return index"
   ]
  },
  {
   "cell_type": "code",
   "execution_count": 83,
   "metadata": {},
   "outputs": [],
   "source": [
    "#print(find_mismatch('{}([])'))\n",
    "def main():\n",
    "    text = input()\n",
    "    mismatch = find_mismatch(text)\n",
    "    # Printing answer, write your code here\n",
    "    print(mismatch)\n",
    "    return "
   ]
  },
  {
   "cell_type": "code",
   "execution_count": 89,
   "metadata": {},
   "outputs": [
    {
     "name": "stdout",
     "output_type": "stream",
     "text": [
      "{(){}\n",
      "1\n"
     ]
    }
   ],
   "source": [
    "if __name__ == \"__main__\":\n",
    "    main()"
   ]
  },
  {
   "cell_type": "code",
   "execution_count": 163,
   "metadata": {},
   "outputs": [],
   "source": [
    "# Problem 1 Compute height\n",
    "\n",
    "class Node(object):\n",
    "    def __init__(self, data):\n",
    "        self.data = data\n",
    "        self.children = []\n",
    "\n",
    "    def add_child(self, obj):\n",
    "        self.children.append(obj)\n",
    "        \n",
    "    def height(self, idx = 0):                 \n",
    "        if len(self.children) == 0:\n",
    "            return 1\n",
    "        else:\n",
    "            return 1 + max(c.height() for c in self.children)"
   ]
  },
  {
   "cell_type": "code",
   "execution_count": 168,
   "metadata": {},
   "outputs": [],
   "source": [
    "parents = [9,7, 5, 5, 2, 9, 9, 9, 2, -1]\n",
    "n = 10\n",
    "nodes = [0]*n\n",
    "for i in range(n):\n",
    "      nodes[i] = Node(i)"
   ]
  },
  {
   "cell_type": "code",
   "execution_count": 169,
   "metadata": {},
   "outputs": [],
   "source": [
    "for child_index in range(n):\n",
    "    parent_index = parents[child_index]\n",
    "    if parent_index == -1:\n",
    "        root = nodes[child_index]\n",
    "    else:\n",
    "        nodes[parent_index].add_child(nodes[child_index])"
   ]
  },
  {
   "cell_type": "code",
   "execution_count": 170,
   "metadata": {},
   "outputs": [
    {
     "name": "stdout",
     "output_type": "stream",
     "text": [
      "0\n",
      "5\n",
      "6\n",
      "7\n"
     ]
    }
   ],
   "source": [
    "for c in root.children:\n",
    "    print(c.data)"
   ]
  },
  {
   "cell_type": "code",
   "execution_count": 172,
   "metadata": {},
   "outputs": [
    {
     "name": "stdout",
     "output_type": "stream",
     "text": [
      "4\n"
     ]
    }
   ],
   "source": [
    "print(root.height())"
   ]
  },
  {
   "cell_type": "code",
   "execution_count": 173,
   "metadata": {},
   "outputs": [],
   "source": [
    "# Problem 1 Compute height Complete function\n",
    "\n",
    "def compute_height(n, parents):\n",
    "    \n",
    "    class Node(object):\n",
    "        \"\"\"Node class that create nodes, their corresponding children and determine the \n",
    "           tree height by height method\"\"\"\n",
    "        def __init__(self, data):\n",
    "            self.data = data\n",
    "            self.children = []\n",
    "\n",
    "        def add_child(self, obj):\n",
    "            self.children.append(obj)\n",
    "\n",
    "        def height(self, idx = 0):                 \n",
    "            if len(self.children) == 0:\n",
    "                return 1\n",
    "            else:\n",
    "                return 1 + max(c.height() for c in self.children)\n",
    "            \n",
    "    # create n nodes instances and save them in an array\n",
    "    nodes = [0]*n\n",
    "    for i in range(n):\n",
    "        nodes[i] = Node(i)\n",
    "        \n",
    "    # recognize root node and create child nodes corresponding to given parents nodes    \n",
    "    for child_index in range(n):\n",
    "        parent_index = parents[child_index]\n",
    "        if parent_index == -1:\n",
    "            root = nodes[child_index]\n",
    "        else:\n",
    "            nodes[parent_index].add_child(nodes[child_index])\n",
    "    \n",
    "    return root.height()"
   ]
  },
  {
   "cell_type": "code",
   "execution_count": 176,
   "metadata": {},
   "outputs": [
    {
     "name": "stdout",
     "output_type": "stream",
     "text": [
      "6\n"
     ]
    }
   ],
   "source": [
    "print(compute_height(10, [8,8,5,6,7,3,1,6,-1,5]))"
   ]
  },
  {
   "cell_type": "code",
   "execution_count": null,
   "metadata": {},
   "outputs": [],
   "source": [
    "\n"
   ]
  },
  {
   "cell_type": "code",
   "execution_count": null,
   "metadata": {},
   "outputs": [],
   "source": []
  },
  {
   "cell_type": "code",
   "execution_count": null,
   "metadata": {},
   "outputs": [],
   "source": []
  }
 ],
 "metadata": {
  "kernelspec": {
   "display_name": "Python 3",
   "language": "python",
   "name": "python3"
  },
  "language_info": {
   "codemirror_mode": {
    "name": "ipython",
    "version": 3
   },
   "file_extension": ".py",
   "mimetype": "text/x-python",
   "name": "python",
   "nbconvert_exporter": "python",
   "pygments_lexer": "ipython3",
   "version": "3.7.4"
  }
 },
 "nbformat": 4,
 "nbformat_minor": 2
}
