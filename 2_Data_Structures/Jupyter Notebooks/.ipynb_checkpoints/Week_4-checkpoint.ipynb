{
 "cells": [
  {
   "cell_type": "code",
   "execution_count": 2,
   "metadata": {},
   "outputs": [
    {
     "data": {
      "text/plain": [
       "0"
      ]
     },
     "execution_count": 2,
     "metadata": {},
     "output_type": "execute_result"
    }
   ],
   "source": [
    "# Problem 1 Binary tree traversals\n",
    "\n",
    "import sys, threading\n",
    "sys.setrecursionlimit(10**6) # max depth of recursion\n",
    "threading.stack_size(2**27)  # new thread will get stack of such size"
   ]
  },
  {
   "cell_type": "code",
   "execution_count": 4,
   "metadata": {},
   "outputs": [
    {
     "name": "stdout",
     "output_type": "stream",
     "text": [
      "5\n"
     ]
    },
    {
     "name": "stderr",
     "output_type": "stream",
     "text": [
      "Exception in thread Thread-5:\n",
      "Traceback (most recent call last):\n",
      "  File \"/home/bilal360/anaconda3/lib/python3.7/threading.py\", line 926, in _bootstrap_inner\n",
      "    self.run()\n",
      "  File \"/home/bilal360/anaconda3/lib/python3.7/threading.py\", line 870, in run\n",
      "    self._target(*self._args, **self._kwargs)\n",
      "  File \"<ipython-input-4-e6a637711c27>\", line 83, in main\n",
      "    tree.read()\n",
      "  File \"<ipython-input-4-e6a637711c27>\", line 11, in read\n",
      "    [a, b, c] = map(int, input().split(' '))\n",
      "EOFError: EOF when reading a line\n",
      "\n"
     ]
    }
   ],
   "source": [
    "\n",
    "\n",
    "class TreeOrders:\n",
    "    def read(self):\n",
    "#        self.n = int(sys.stdin.readline())\n",
    "        self.n = int(input())\n",
    "        self.key = [0 for i in range(self.n)]\n",
    "        self.left = [0 for i in range(self.n)]\n",
    "        self.right = [0 for i in range(self.n)]\n",
    "        for i in range(self.n):\n",
    "           # print('Bilal')\n",
    "#            [a, b, c] = map(int, sys.stdin.readline().split())\n",
    "            [a, b, c] = map(int, input().split(' '))\n",
    "            #print('Bilal')\n",
    "            self.key[i] = a\n",
    "            self.left[i] = b\n",
    "            self.right[i] = c\n",
    "\n",
    "    def inOrder(self):\n",
    "        cur_id = 0\n",
    "        stack = []\n",
    "\n",
    "        while True:\n",
    "            if cur_id != -1:\n",
    "                stack.append(cur_id)\n",
    "                cur_id = self.left[cur_id]\n",
    "            elif stack:\n",
    "                cur_id = stack.pop()\n",
    "                yield self.key[cur_id]\n",
    "                cur_id = self.right[cur_id]\n",
    "            else:\n",
    "                break\n",
    "#         self.result = []\n",
    "#         # Finish the implementation\n",
    "#         # You may need to add a new recursive method to do that\n",
    "\n",
    "#         return self.result\n",
    "\n",
    "    def preOrder(self):\n",
    "        cur_id = 0\n",
    "        stack = []\n",
    "\n",
    "        while True:\n",
    "            if cur_id != -1:\n",
    "                yield self.key[cur_id]\n",
    "                stack.append(cur_id)\n",
    "                cur_id = self.left[cur_id]\n",
    "            elif stack:\n",
    "                cur_id = stack.pop()\n",
    "                cur_id = self.right[cur_id]\n",
    "            else:\n",
    "                break\n",
    "#         self.result = []\n",
    "#         # Finish the implementation\n",
    "#         # You may need to add a new recursive method to do that\n",
    "\n",
    "#         return self.result\n",
    "\n",
    "    def postOrder(self):\n",
    "        \n",
    "        stack1 = [0]\n",
    "        stack2 = []\n",
    "\n",
    "        while stack1:\n",
    "            cur_id = stack1.pop()\n",
    "            stack2.append(self.key[cur_id])\n",
    "\n",
    "            left_id = self.left[cur_id]\n",
    "            right_id = self.right[cur_id]\n",
    "            if left_id != -1:\n",
    "                stack1.append(left_id)\n",
    "            if right_id != -1:\n",
    "                stack1.append(right_id)\n",
    "\n",
    "        while stack2:\n",
    "            yield stack2.pop()\n",
    "#         self.result = []\n",
    "#         # Finish the implementation\n",
    "#         # You may need to add a new recursive method to do that\n",
    "\n",
    "#         return self.result\n",
    "\n",
    "def main():\n",
    "\ttree = TreeOrders()\n",
    "\ttree.read()\n",
    "\tprint(\" \".join(str(x) for x in tree.inOrder()))\n",
    "\tprint(\" \".join(str(x) for x in tree.preOrder()))\n",
    "\tprint(\" \".join(str(x) for x in tree.postOrder()))\n",
    "\n",
    "threading.Thread(target=main).start()"
   ]
  },
  {
   "cell_type": "code",
   "execution_count": 11,
   "metadata": {},
   "outputs": [],
   "source": [
    "import sys, threading\n",
    "sys.setrecursionlimit(10**6) # max depth of recursion\n",
    "threading.stack_size(2**27)  # new thread will get stack of such size\n",
    "\n",
    "class TreeOrders:\n",
    "\tdef read(self):\n",
    "\t\tself.n = int(input())\n",
    "\t\tself.key = [0 for i in range(self.n)]\n",
    "\t\tself.left = [0 for i in range(self.n)]\n",
    "\t\tself.right = [0 for i in range(self.n)]\n",
    "\t\tfor i in range(self.n):\n",
    "\t\t\t[a, b, c] = map(int, input().split())\n",
    "\t\t\tself.key[i] = a\n",
    "\t\t\tself.left[i] = b\n",
    "\t\t\tself.right[i] = c\n",
    "\n",
    "\tdef inOrder(self):\n",
    "\t\tresult = []\n",
    "\t\t# Finish the implementation\n",
    "\t\t# You may need to add a new recursive method to do that\n",
    "\t\tdef inOrderRecursive(i,result):\n",
    "\t\t\tif self.left[i] != -1:\n",
    "\t\t\t\tinOrderRecursive(self.left[i], result)\n",
    "\t\t\tresult.append(self.key[i])\n",
    "\t\t\tif self.right[i] != -1:\n",
    "\t\t\t\tinOrderRecursive(self.right[i], result)\n",
    "\t\tinOrderRecursive(0, result)\n",
    "\t\t\t\t\t\n",
    "\t\treturn result\n",
    "\n",
    "\tdef preOrder(self):\n",
    "\t\tresult = []\n",
    "\t\t# Finish the implementation\n",
    "\t\t# You may need to add a new recursive method to do that\n",
    "\t\tdef preOrderRecursive(i,result):\n",
    "\t\t\tresult.append(self.key[i])\n",
    "\t\t\tif self.left[i] != -1:\n",
    "\t\t\t\tpreOrderRecursive(self.left[i], result)\n",
    "\t\t\tif self.right[i] != -1:\n",
    "\t\t\t\tpreOrderRecursive(self.right[i], result)\n",
    "\t\tpreOrderRecursive(0, result)\n",
    "\t\t\t\t\t\n",
    "\t\treturn result\n",
    "\n",
    "\tdef postOrder(self):\n",
    "\t\tresult = []\n",
    "\t\t# Finish the implementation\n",
    "\t\t# You may need to add a new recursive method to do that\n",
    "\t\tdef postOrderRecursive(i,result):\n",
    "\t\t\tif self.left[i] != -1:\n",
    "\t\t\t\tpostOrderRecursive(self.left[i], result)\n",
    "\t\t\tif self.right[i] != -1:\n",
    "\t\t\t\tpostOrderRecursive(self.right[i], result)\n",
    "\t\t\tresult.append(self.key[i])\n",
    "\t\tpostOrderRecursive(0, result)\n",
    "\t\t\t\t\t\n",
    "\t\treturn result\n",
    "\n",
    "def main():\n",
    "\ttree = TreeOrders()\n",
    "\ttree.read()\n",
    "\tprint(\" \".join(str(x) for x in tree.inOrder()))\n",
    "\tprint(\" \".join(str(x) for x in tree.preOrder()))\n",
    "\tprint(\" \".join(str(x) for x in tree.postOrder()))\n",
    "\n",
    "threading.Thread(target=main).start()"
   ]
  },
  {
   "cell_type": "code",
   "execution_count": null,
   "metadata": {},
   "outputs": [],
   "source": []
  },
  {
   "cell_type": "code",
   "execution_count": 14,
   "metadata": {},
   "outputs": [
    {
     "data": {
      "text/plain": [
       "' This is \\n5\\n4  1  2\\n2  3  4\\n5 -1 -1\\n1 -1 -1\\n3 -1 -1\\n'"
      ]
     },
     "execution_count": 14,
     "metadata": {},
     "output_type": "execute_result"
    }
   ],
   "source": [
    "''' This is \n",
    "5\n",
    "4  1  2\n",
    "2  3  4\n",
    "5 -1 -1\n",
    "1 -1 -1\n",
    "3 -1 -1\n",
    "'''"
   ]
  },
  {
   "cell_type": "code",
   "execution_count": null,
   "metadata": {},
   "outputs": [],
   "source": [
    "import sys\n",
    "\n",
    "def IsBinarySearchTree(j, mn, mx):\n",
    "    if not j in tree: \n",
    "        return True\n",
    "    if tree[j][0] < mn or tree[j][0] > mx: \n",
    "        return False\n",
    "    return IsBinarySearchTree(tree[j][1], mn, tree[j][0] - 1) and IsBinarySearchTree(tree[j][2], tree[j][0] + 1, mx)\n",
    "def main():\n",
    "    nodes = int(input())\n",
    "    global tree\n",
    "    tree, int_max, int_min = {}, 2147483647, -2147483648\n",
    "    for i in range(nodes):\n",
    "        tree[i] = (list(map(int, input().strip().split())))\n",
    "    \n",
    "    if IsBinarySearchTree(0, int_min, int_max):\n",
    "        print(\"CORRECT\")\n",
    "    else:\n",
    "        print(\"INCORRECT\")\n",
    "    "
   ]
  },
  {
   "cell_type": "code",
   "execution_count": 23,
   "metadata": {},
   "outputs": [
    {
     "name": "stdout",
     "output_type": "stream",
     "text": [
      "5\n",
      "4 1 2\n",
      "2 3 4\n",
      "5 -1 -1\n",
      "1 -1 -1\n",
      "3 -1 -1\n",
      "CORRECT\n"
     ]
    }
   ],
   "source": [
    "main()"
   ]
  },
  {
   "cell_type": "code",
   "execution_count": 39,
   "metadata": {},
   "outputs": [
    {
     "data": {
      "text/plain": [
       "False"
      ]
     },
     "execution_count": 39,
     "metadata": {},
     "output_type": "execute_result"
    }
   ],
   "source": [
    "not 9"
   ]
  },
  {
   "cell_type": "code",
   "execution_count": 27,
   "metadata": {},
   "outputs": [
    {
     "name": "stdout",
     "output_type": "stream",
     "text": [
      "4 1 2\n",
      "2 3 4\n",
      "5 -1 -1\n",
      "1 -1 -1\n",
      "3 -1 -1\n"
     ]
    }
   ],
   "source": [
    "dic = {}\n",
    "for i in range(5):\n",
    "        dic[i] = (list(map(int, input().strip().split())))"
   ]
  },
  {
   "cell_type": "code",
   "execution_count": 62,
   "metadata": {},
   "outputs": [
    {
     "data": {
      "text/plain": [
       "False"
      ]
     },
     "execution_count": 62,
     "metadata": {},
     "output_type": "execute_result"
    }
   ],
   "source": [
    "-1 in dic"
   ]
  },
  {
   "cell_type": "code",
   "execution_count": 51,
   "metadata": {},
   "outputs": [
    {
     "name": "stdout",
     "output_type": "stream",
     "text": [
      "{0: [4, 1, 2], 1: [2, 3, 4], 2: [5, -1, -1], 3: [1, -1, -1], 4: [3, -1, -1]}\n"
     ]
    }
   ],
   "source": [
    "print(dic)"
   ]
  },
  {
   "cell_type": "code",
   "execution_count": null,
   "metadata": {},
   "outputs": [],
   "source": []
  }
 ],
 "metadata": {
  "kernelspec": {
   "display_name": "Python 3",
   "language": "python",
   "name": "python3"
  },
  "language_info": {
   "codemirror_mode": {
    "name": "ipython",
    "version": 3
   },
   "file_extension": ".py",
   "mimetype": "text/x-python",
   "name": "python",
   "nbconvert_exporter": "python",
   "pygments_lexer": "ipython3",
   "version": "3.7.4"
  }
 },
 "nbformat": 4,
 "nbformat_minor": 2
}
