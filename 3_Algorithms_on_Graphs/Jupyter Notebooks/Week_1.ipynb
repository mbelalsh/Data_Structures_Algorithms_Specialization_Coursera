{
 "cells": [
  {
   "cell_type": "code",
   "execution_count": 72,
   "metadata": {},
   "outputs": [],
   "source": [
    "# Problem 1 Reachibility\n",
    "import sys\n",
    "\n",
    "def reach(adj, x, y):\n",
    "    lis = [False]*len(adj)\n",
    "    #write your code here\n",
    "    def explore(i, lis):\n",
    "        lis [i] = True\n",
    "        #print(lis)\n",
    "        for i in adj[i][:]:\n",
    "            if lis[i] == False:\n",
    "                explore(i, lis)\n",
    "    explore(x,lis)\n",
    "    #print(lis)\n",
    "    if lis[y] == True:\n",
    "        return 1\n",
    "    return 0\n"
   ]
  },
  {
   "cell_type": "code",
   "execution_count": 73,
   "metadata": {},
   "outputs": [
    {
     "name": "stdout",
     "output_type": "stream",
     "text": [
      "10 20 5 9 4 10 2 6 5 10 6 8 2 9 4 8 4 9 2 8 3 10 6 10 2 10 1 5 3 9 1 6 7 10 1 7 1 10 2 5 3 5 7 8\n",
      "1\n"
     ]
    }
   ],
   "source": [
    "if __name__ == '__main__':\n",
    "    # x = input()\n",
    "    data = list(map(int, input().split()))\n",
    "    n, m = data[0:2]\n",
    "    data = data[2:]\n",
    "    edges = list(zip(data[0:(2 * m):2], data[1:(2 * m):2]))\n",
    "    #print(edges)\n",
    "    x, y = data[2 * m:]\n",
    "    adj = [[] for i in range(n)]\n",
    "    x, y = x - 1, y - 1\n",
    "    #print(x,y)\n",
    "    for (a, b) in edges:\n",
    "        adj[a - 1].append(b - 1)\n",
    "        adj[b - 1].append(a - 1)\n",
    "    #print(adj)\n",
    "    print(reach(adj, x, y))"
   ]
  },
  {
   "cell_type": "code",
   "execution_count": null,
   "metadata": {},
   "outputs": [],
   "source": []
  },
  {
   "cell_type": "code",
   "execution_count": null,
   "metadata": {},
   "outputs": [],
   "source": []
  },
  {
   "cell_type": "code",
   "execution_count": 1,
   "metadata": {},
   "outputs": [],
   "source": [
    "# Problem # 2 No. of Connecected Components \n",
    "import sys\n",
    "\n",
    "def reach(adj, x, y):\n",
    "    lis = [False]*len(adj)\n",
    "    c = 0\n",
    "    #write your code here\n",
    "    def explore(i, lis):\n",
    "        lis [i] = True\n",
    "        #print(lis)\n",
    "        for i in adj[i][:]:\n",
    "            if lis[i] == False:\n",
    "                explore(i, lis)\n",
    "    for i in range(len(adj)):\n",
    "        if lis [i] == False:\n",
    "            c = c + 1\n",
    "            explore(i,lis)\n",
    "    #print(lis)\n",
    "    return c"
   ]
  },
  {
   "cell_type": "code",
   "execution_count": 2,
   "metadata": {},
   "outputs": [
    {
     "name": "stdout",
     "output_type": "stream",
     "text": [
      "4 2 1 2 3 2 1 4\n",
      "2\n"
     ]
    }
   ],
   "source": [
    "if __name__ == '__main__':\n",
    "    # x = input()\n",
    "    data = list(map(int, input().split()))\n",
    "    n, m = data[0:2]\n",
    "    data = data[2:]\n",
    "    edges = list(zip(data[0:(2 * m):2], data[1:(2 * m):2]))\n",
    "    #print(edges)\n",
    "    x, y = data[2 * m:]\n",
    "    adj = [[] for i in range(n)]\n",
    "    x, y = x - 1, y - 1\n",
    "    #print(x,y)\n",
    "    for (a, b) in edges:\n",
    "        adj[a - 1].append(b - 1)\n",
    "        adj[b - 1].append(a - 1)\n",
    "    #print(adj)\n",
    "    print(reach(adj, x, y))"
   ]
  },
  {
   "cell_type": "code",
   "execution_count": null,
   "metadata": {},
   "outputs": [],
   "source": []
  }
 ],
 "metadata": {
  "kernelspec": {
   "display_name": "Python 3",
   "language": "python",
   "name": "python3"
  },
  "language_info": {
   "codemirror_mode": {
    "name": "ipython",
    "version": 3
   },
   "file_extension": ".py",
   "mimetype": "text/x-python",
   "name": "python",
   "nbconvert_exporter": "python",
   "pygments_lexer": "ipython3",
   "version": "3.7.4"
  }
 },
 "nbformat": 4,
 "nbformat_minor": 2
}
