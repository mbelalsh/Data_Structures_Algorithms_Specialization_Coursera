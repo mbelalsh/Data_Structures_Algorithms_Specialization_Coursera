{
 "cells": [
  {
   "cell_type": "code",
   "execution_count": 82,
   "metadata": {},
   "outputs": [],
   "source": [
    "# Problem 1 Checking Consistency of CS Curriculum\n",
    "import sys\n",
    "\n",
    "def acyclic(adj):\n",
    "    lis = [False]*len(adj)\n",
    "    global c\n",
    "    c = 0\n",
    "    #write your code here\n",
    "    def explore(i,rem, lis):\n",
    "        global c\n",
    "        lis [i] = True\n",
    "        #print(rem)\n",
    "        for i in adj[i][:]:\n",
    "            #print(i)\n",
    "            if lis[i] == False:\n",
    "                explore(i,rem,lis)\n",
    "            elif lis[i] == True and i == rem:\n",
    "                    #print(\"java\")\n",
    "                    c = 1\n",
    "    for i in range(len(adj)):\n",
    "        #print('Bilal')\n",
    "        if lis [i] == False:\n",
    "            rem = i\n",
    "            explore(i,rem,lis)\n",
    "    if c == 1:\n",
    "        return 1\n",
    "    #print(lis)\n",
    "    return 0\n"
   ]
  },
  {
   "cell_type": "code",
   "execution_count": 84,
   "metadata": {},
   "outputs": [
    {
     "name": "stdout",
     "output_type": "stream",
     "text": [
      "5 7 1 2 2 3 1 3 3 4 1 4 2 5 3 5\n",
      "0\n"
     ]
    }
   ],
   "source": [
    "if __name__ == '__main__':\n",
    "    # x = input()\n",
    "    data = list(map(int, input().split()))\n",
    "    n, m = data[0:2]\n",
    "    data = data[2:]\n",
    "    edges = list(zip(data[0:(2 * m):2], data[1:(2 * m):2]))\n",
    "    adj = [[] for _ in range(n)]\n",
    "    for (a, b) in edges:\n",
    "        adj[a - 1].append(b - 1)\n",
    "    #print(adj)\n",
    "    print(acyclic(adj))"
   ]
  },
  {
   "cell_type": "code",
   "execution_count": 87,
   "metadata": {},
   "outputs": [],
   "source": [
    "#4 4 1 2 4 1 2 3 3 1\n",
    "#5 7 1 2 2 3 1 3 3 4 1 4 2 5 3 5"
   ]
  },
  {
   "cell_type": "code",
   "execution_count": 92,
   "metadata": {},
   "outputs": [],
   "source": [
    "# Problem 3 Advanced Problem INCOMPLETE\n",
    "import sys\n",
    "\n",
    "def acyclic(adj):\n",
    "    lis = [False]*len(adj)\n",
    "    global c\n",
    "    c = 0\n",
    "    #write your code here\n",
    "    def explore(i,rem, lis):\n",
    "        global c\n",
    "        lis [i] = True\n",
    "        #print(rem)\n",
    "        for i in adj[i][:]:\n",
    "            #print(i)\n",
    "            if lis[i] == False:\n",
    "                explore(i,rem,lis)\n",
    "            elif lis[i] == True and i == rem:\n",
    "                    #print(\"java\")\n",
    "                    c += 1\n",
    "    for i in range(len(adj)):\n",
    "        #print('Bilal')\n",
    "        if lis [i] == False:\n",
    "            c += 1\n",
    "            rem = i\n",
    "            explore(i,rem,lis)\n",
    "    if c >= 1:\n",
    "        return 1\n",
    "    #print(lis)\n",
    "    return 0\n"
   ]
  },
  {
   "cell_type": "code",
   "execution_count": 97,
   "metadata": {},
   "outputs": [
    {
     "name": "stdout",
     "output_type": "stream",
     "text": [
      "5 7 2 1 3 2 3 1 4 3 4 1 5 2 5 3\n",
      "[[], [0], [1, 0], [2, 0], [1, 2]]\n",
      "0\n"
     ]
    }
   ],
   "source": [
    "if __name__ == '__main__':\n",
    "    # x = input()\n",
    "    data = list(map(int, input().split()))\n",
    "    n, m = data[0:2]\n",
    "    data = data[2:]\n",
    "    edges = list(zip(data[0:(2 * m):2], data[1:(2 * m):2]))\n",
    "    adj = [[] for _ in range(n)]\n",
    "    for (a, b) in edges:\n",
    "        adj[a - 1].append(b - 1)\n",
    "    print(adj)\n",
    "    print(acyclic(adj))"
   ]
  },
  {
   "cell_type": "code",
   "execution_count": 94,
   "metadata": {},
   "outputs": [],
   "source": [
    "# 5 7 2 1 3 2 3 1 4 3 4 1 5 2 5 3\n",
    "# 4 4 1 2 4 1 2 3 3 1\n",
    "# 4 1 3 1\n",
    "# 4 3 1 2 4 1 3 1"
   ]
  },
  {
   "cell_type": "code",
   "execution_count": 26,
   "metadata": {},
   "outputs": [],
   "source": [
    "# Problem 2 Determining an Order of Courses\n",
    "import sys\n",
    "\n",
    "def toposort(adj):\n",
    "    global z\n",
    "    z = 0\n",
    "    lis = [False for x in range(len(adj))]\n",
    "    top_sort = [0]*len(adj)\n",
    "    def explore(i,lis):\n",
    "        global z\n",
    "        lis [i] = True\n",
    "        for q in adj[i][:]:  \n",
    "            if lis[q] == False: \n",
    "                explore(q,lis)\n",
    "        z += 1        \n",
    "        top_sort [-1*z] = i\n",
    "        \n",
    "    for i in range(len(adj)):\n",
    "        if lis [i] == False:\n",
    "            explore(i,lis)\n",
    "    return top_sort"
   ]
  },
  {
   "cell_type": "code",
   "execution_count": 29,
   "metadata": {},
   "outputs": [
    {
     "name": "stdout",
     "output_type": "stream",
     "text": [
      "5 7 2 1 3 2 3 1 4 3 4 1 5 2 5 3\n",
      "[[], [0], [1, 0], [2, 0], [1, 2]]\n",
      "5 4 3 2 1 "
     ]
    }
   ],
   "source": [
    "if __name__ == '__main__':\n",
    "#     input = sys.stdin.read()\n",
    "    for i in range(2):\n",
    "        data = list(map(int, input().split()))\n",
    "        n, m = data[0:2]\n",
    "        data = data[2:]\n",
    "        edges = list(zip(data[0:(2 * m):2], data[1:(2 * m):2]))\n",
    "        adj = [[] for _ in range(n)]\n",
    "        for (a, b) in edges:\n",
    "            adj[a - 1].append(b - 1)\n",
    "            adj[b - 1].append(a - 1)\n",
    "        s, t = data[2 * m] - 1, data[2 * m + 1] - 1\n",
    "        print(toposort(adj, s, t))"
   ]
  },
  {
   "cell_type": "code",
   "execution_count": null,
   "metadata": {},
   "outputs": [],
   "source": []
  },
  {
   "cell_type": "code",
   "execution_count": null,
   "metadata": {},
   "outputs": [],
   "source": []
  },
  {
   "cell_type": "code",
   "execution_count": null,
   "metadata": {},
   "outputs": [],
   "source": []
  },
  {
   "cell_type": "code",
   "execution_count": null,
   "metadata": {},
   "outputs": [],
   "source": []
  },
  {
   "cell_type": "code",
   "execution_count": null,
   "metadata": {},
   "outputs": [],
   "source": []
  },
  {
   "cell_type": "code",
   "execution_count": null,
   "metadata": {},
   "outputs": [],
   "source": []
  },
  {
   "cell_type": "code",
   "execution_count": null,
   "metadata": {},
   "outputs": [],
   "source": []
  },
  {
   "cell_type": "code",
   "execution_count": null,
   "metadata": {},
   "outputs": [],
   "source": []
  },
  {
   "cell_type": "code",
   "execution_count": null,
   "metadata": {},
   "outputs": [],
   "source": []
  }
 ],
 "metadata": {
  "kernelspec": {
   "display_name": "Python 3",
   "language": "python",
   "name": "python3"
  },
  "language_info": {
   "codemirror_mode": {
    "name": "ipython",
    "version": 3
   },
   "file_extension": ".py",
   "mimetype": "text/x-python",
   "name": "python",
   "nbconvert_exporter": "python",
   "pygments_lexer": "ipython3",
   "version": "3.7.4"
  }
 },
 "nbformat": 4,
 "nbformat_minor": 2
}
