{
 "cells": [
  {
   "cell_type": "code",
   "execution_count": null,
   "metadata": {},
   "outputs": [],
   "source": []
  },
  {
   "cell_type": "code",
   "execution_count": null,
   "metadata": {},
   "outputs": [],
   "source": []
  },
  {
   "cell_type": "code",
   "execution_count": 1,
   "metadata": {},
   "outputs": [],
   "source": [
    "# 5 4 5 2 1 3 3 4 1 4 3 5\n",
    "# 4 4 1 2 4 1 2 3 3 1 2 4"
   ]
  },
  {
   "cell_type": "code",
   "execution_count": 7,
   "metadata": {},
   "outputs": [],
   "source": [
    "# Problem 1 Computing the min number of flights\n",
    "import sys\n",
    "import queue\n",
    "\n",
    "def distance(adj, s, t):\n",
    "    dist = [-1] * len(adj)\n",
    "    dist[s] = 0\n",
    "    q = queue.Queue()\n",
    "    q.put(s)\n",
    "    while not q.empty():\n",
    "        z = q.get()\n",
    "        for i in adj[z]: \n",
    "            if dist[i] == -1: \n",
    "                dist[i] = dist[z] + 1\n",
    "                q.put(i)\n",
    "    return dist[t]"
   ]
  },
  {
   "cell_type": "code",
   "execution_count": 10,
   "metadata": {},
   "outputs": [
    {
     "name": "stdout",
     "output_type": "stream",
     "text": [
      "5 4 5 2 1 3 3 4 1 4 3 5\n",
      "-1\n"
     ]
    }
   ],
   "source": [
    "if __name__ == '__main__':\n",
    "    #input = sys.stdin.read()\n",
    "    data = list(map(int, input().split()))\n",
    "    n, m = data[0:2]\n",
    "    data = data[2:]\n",
    "    edges = list(zip(data[0:(2 * m):2], data[1:(2 * m):2]))\n",
    "    adj = [[] for _ in range(n)]\n",
    "    for (a, b) in edges:\n",
    "        adj[a - 1].append(b - 1)\n",
    "        adj[b - 1].append(a - 1)\n",
    "    #print(adj)\n",
    "    s, t = data[2 * m] - 1, data[2 * m + 1] - 1\n",
    "    print(distance(adj, s, t))"
   ]
  },
  {
   "cell_type": "code",
   "execution_count": null,
   "metadata": {},
   "outputs": [],
   "source": []
  }
 ],
 "metadata": {
  "kernelspec": {
   "display_name": "Python 3",
   "language": "python",
   "name": "python3"
  }
 },
 "nbformat": 4,
 "nbformat_minor": 2
}
